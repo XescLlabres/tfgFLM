{
  "nbformat": 4,
  "nbformat_minor": 0,
  "metadata": {
    "colab": {
      "provenance": [],
      "authorship_tag": "ABX9TyOt7k9TVSY89slPHl3v1Ovn",
      "include_colab_link": true
    },
    "kernelspec": {
      "name": "python3",
      "display_name": "Python 3"
    },
    "language_info": {
      "name": "python"
    }
  },
  "cells": [
    {
      "cell_type": "markdown",
      "metadata": {
        "id": "view-in-github",
        "colab_type": "text"
      },
      "source": [
        "<a href=\"https://colab.research.google.com/github/XescLlabres/tfgFLM/blob/main/WDBC/AvaluacioModel.ipynb\" target=\"_parent\"><img src=\"https://colab.research.google.com/assets/colab-badge.svg\" alt=\"Open In Colab\"/></a>"
      ]
    },
    {
      "cell_type": "code",
      "execution_count": null,
      "metadata": {
        "id": "ReHqAukkWSqL"
      },
      "outputs": [],
      "source": [
        "from sklearn.metrics import confusion_matrix, precision_score, recall_score, f1_score, accuracy_score\n",
        "import numpy as np\n",
        "import pandas as pd"
      ]
    },
    {
      "cell_type": "markdown",
      "source": [
        "#Taules amb intervals"
      ],
      "metadata": {
        "id": "uNITkft5rO6M"
      }
    },
    {
      "cell_type": "code",
      "source": [
        "# Llegir les taules\n",
        "\n",
        "taula1 = pd.read_csv('bootstrap_probabilities_id.csv')\n",
        "taula2 = pd.read_csv('data.csv.xls')\n",
        "#Preprocés\n",
        "taula2.drop(['Unnamed: 32'],axis=1,inplace=True)\n",
        "taula2.diagnosis=[1 if each==\"M\" else 0 for each in taula2.diagnosis]\n"
      ],
      "metadata": {
        "id": "nK4-aAKueIpk"
      },
      "execution_count": null,
      "outputs": []
    },
    {
      "cell_type": "code",
      "source": [
        "\n",
        "\n",
        "# Extreim la columna id\n",
        "id_column = taula1.iloc[:, 0]\n",
        "\n",
        "# Extreim les 1000 probabilitats\n",
        "probabilities = taula1.iloc[:, 1:]\n",
        "\n",
        "# Aplicam el llindar de 0.5 per convertir 1000 probabilitats en una predicció (0 o 1)\n",
        "#Prenem la mitjana de les probabilitats de cada fila i hi aplicam el llindar\n",
        "y_pred = (probabilities.mean(axis=1) >= 0.5).astype(int)\n",
        "\n",
        "# Cream una taula nova amb id i columna de predicció\n",
        "taula1_processed = pd.DataFrame({'id': id_column, 'y_pred': y_pred})\n",
        "\n",
        "#Processam la taula2 per només obtenir identificació i columna diagnosis (y_true)\n",
        "taula2_processed = taula2[['id', 'diagnosis']]\n",
        "taula2_processed.rename(columns={'diagnosis': 'y_true'}, inplace=True)\n",
        "\n",
        "#Unim les taules\n",
        "taula05 = pd.merge(taula1_processed, taula2_processed, on='id')\n",
        "\n",
        "print(taula05.head())\n"
      ],
      "metadata": {
        "colab": {
          "base_uri": "https://localhost:8080/"
        },
        "id": "GYntONAyegVc",
        "outputId": "af304f1a-7841-47ad-d3c8-7f9d91727e55"
      },
      "execution_count": null,
      "outputs": [
        {
          "output_type": "stream",
          "name": "stdout",
          "text": [
            "         id  y_pred  y_true\n",
            "0    842302       1       1\n",
            "1    842517       1       1\n",
            "2  84300903       1       1\n",
            "3  84348301       1       1\n",
            "4  84358402       1       1\n"
          ]
        },
        {
          "output_type": "stream",
          "name": "stderr",
          "text": [
            "<ipython-input-15-ee294f66bce2>:16: SettingWithCopyWarning: \n",
            "A value is trying to be set on a copy of a slice from a DataFrame\n",
            "\n",
            "See the caveats in the documentation: https://pandas.pydata.org/pandas-docs/stable/user_guide/indexing.html#returning-a-view-versus-a-copy\n",
            "  taula2_processed.rename(columns={'diagnosis': 'y_true'}, inplace=True)\n"
          ]
        }
      ]
    },
    {
      "cell_type": "code",
      "source": [
        "# Guardam la taula en un csv per analitzar-la\n",
        "taula05.to_csv('ruta_a_tu_archivo_taula3.csv', index=False)"
      ],
      "metadata": {
        "id": "TttqaSvxeu0H"
      },
      "execution_count": null,
      "outputs": []
    },
    {
      "cell_type": "markdown",
      "source": [
        "Anàlisi taula amb umbral 0.5"
      ],
      "metadata": {
        "id": "ybIqlC6oft_E"
      }
    },
    {
      "cell_type": "code",
      "source": [
        "\n",
        "\n",
        "y_pred = taula05['y_pred']\n",
        "y_true = taula05['y_true']\n",
        "\n",
        "# 1. Matriu de confusió\n",
        "cm = confusion_matrix(y_true, y_pred)\n",
        "print(\"Matriu de confusió:\")\n",
        "print(cm)\n",
        "\n",
        "# 2. Presició\n",
        "precision = precision_score(y_true, y_pred)\n",
        "print(f\"Presició: {precision:.2f}\")\n",
        "\n",
        "# 3. Recall\n",
        "recall = recall_score(y_true, y_pred)\n",
        "print(f\"Recall: {recall:.2f}\")\n",
        "\n",
        "# 4. F1-Score\n",
        "f1 = f1_score(y_true, y_pred)\n",
        "print(f\"F1-Score: {f1:.2f}\")\n",
        "\n",
        "# 5. Exactitut\n",
        "accuracy = accuracy_score(y_true, y_pred)\n",
        "print(f\"Exactitut: {accuracy:.2f}\")\n"
      ],
      "metadata": {
        "colab": {
          "base_uri": "https://localhost:8080/"
        },
        "id": "-FMDP3JnfUt3",
        "outputId": "08384a5d-a8e6-4fa9-f1c7-1b0dc3dd64cc"
      },
      "execution_count": null,
      "outputs": [
        {
          "output_type": "stream",
          "name": "stdout",
          "text": [
            "Matriu de confusió:\n",
            "[[354   3]\n",
            " [  7 205]]\n",
            "Presició: 0.99\n",
            "Recall: 0.97\n",
            "F1-Score: 0.98\n",
            "Exactitut: 0.98\n"
          ]
        }
      ]
    },
    {
      "cell_type": "markdown",
      "source": [
        "Feim exactament el mateix però amb el llindar a 0.8, serà molt més difícil obtenir un 1 a l'y_pred."
      ],
      "metadata": {
        "id": "l3dTBfwlgFva"
      }
    },
    {
      "cell_type": "code",
      "source": [
        "\n",
        "id_column = taula1.iloc[:, 0]\n",
        "\n",
        "\n",
        "probabilities = taula1.iloc[:, 1:]\n",
        "\n",
        "#Canviam el llindar\n",
        "y_pred = (probabilities.mean(axis=1) >= 0.8).astype(int)\n",
        "\n",
        "\n",
        "taula1_processed = pd.DataFrame({'id': id_column, 'y_pred': y_pred})\n",
        "\n",
        "\n",
        "taula2_processed = taula2[['id', 'diagnosis']]\n",
        "taula2_processed.rename(columns={'diagnosis': 'y_true'}, inplace=True)\n",
        "\n",
        "\n",
        "taula08 = pd.merge(taula1_processed, taula2_processed, on='id')\n"
      ],
      "metadata": {
        "colab": {
          "base_uri": "https://localhost:8080/"
        },
        "id": "iYh-qqB7fzD1",
        "outputId": "06de289e-8431-4879-92d2-3abdfde30ccf"
      },
      "execution_count": null,
      "outputs": [
        {
          "output_type": "stream",
          "name": "stderr",
          "text": [
            "<ipython-input-18-84d773736bfc>:14: SettingWithCopyWarning: \n",
            "A value is trying to be set on a copy of a slice from a DataFrame\n",
            "\n",
            "See the caveats in the documentation: https://pandas.pydata.org/pandas-docs/stable/user_guide/indexing.html#returning-a-view-versus-a-copy\n",
            "  taula2_processed.rename(columns={'diagnosis': 'y_true'}, inplace=True)\n"
          ]
        }
      ]
    },
    {
      "cell_type": "code",
      "source": [
        "\n",
        "y_pred = taula08['y_pred']\n",
        "y_true = taula08['y_true']\n",
        "\n",
        "# 1. Matriu de confusió\n",
        "cm = confusion_matrix(y_true, y_pred)\n",
        "print(\"Matriu de confusió:\")\n",
        "print(cm)\n",
        "\n",
        "# 2. Precisió\n",
        "precision = precision_score(y_true, y_pred)\n",
        "print(f\"Precisió: {precision:.2f}\")\n",
        "\n",
        "# 3. Recall\n",
        "recall = recall_score(y_true, y_pred)\n",
        "print(f\"Recall: {recall:.2f}\")\n",
        "\n",
        "# 4. F1-Score\n",
        "f1 = f1_score(y_true, y_pred)\n",
        "print(f\"F1-Score: {f1:.2f}\")\n",
        "\n",
        "# 5. Exactitut\n",
        "accuracy = accuracy_score(y_true, y_pred)\n",
        "print(f\"Exactitut: {accuracy:.2f}\")"
      ],
      "metadata": {
        "colab": {
          "base_uri": "https://localhost:8080/"
        },
        "id": "KDWNmPuMf_X2",
        "outputId": "5a1411e6-d5b4-47a9-e584-8c4631519637"
      },
      "execution_count": null,
      "outputs": [
        {
          "output_type": "stream",
          "name": "stdout",
          "text": [
            "Matriu de confusió:\n",
            "[[357   0]\n",
            " [ 22 190]]\n",
            "Precisió: 1.00\n",
            "Recall: 0.90\n",
            "F1-Score: 0.95\n",
            "Exactitut: 0.96\n"
          ]
        }
      ]
    },
    {
      "cell_type": "markdown",
      "source": [
        "Tenim 0 falsos negatius, però més falsos positius. En general, pitjors resultats."
      ],
      "metadata": {
        "id": "nq7X2dGlgJMX"
      }
    },
    {
      "cell_type": "markdown",
      "source": [
        "Ara amb 0.2, llavors serà més fàcil obtenir un 1."
      ],
      "metadata": {
        "id": "sdO3XngsgQzG"
      }
    },
    {
      "cell_type": "code",
      "source": [
        "\n",
        "id_column = taula1.iloc[:, 0]\n",
        "\n",
        "\n",
        "probabilities = taula1.iloc[:, 1:]\n",
        "\n",
        "#Canviam el llindar\n",
        "y_pred = (probabilities.mean(axis=1) >= 0.2).astype(int)\n",
        "\n",
        "\n",
        "taula1_processed = pd.DataFrame({'id': id_column, 'y_pred': y_pred})\n",
        "\n",
        "\n",
        "taula2_processed = taula2[['id', 'diagnosis']]\n",
        "taula2_processed.rename(columns={'diagnosis': 'y_true'}, inplace=True)\n",
        "\n",
        "\n",
        "taula02 = pd.merge(taula1_processed, taula2_processed, on='id')"
      ],
      "metadata": {
        "colab": {
          "base_uri": "https://localhost:8080/"
        },
        "id": "tsp1J79kgP-H",
        "outputId": "60e73252-6459-4340-a5b5-68407a7b5e44"
      },
      "execution_count": null,
      "outputs": [
        {
          "output_type": "stream",
          "name": "stderr",
          "text": [
            "<ipython-input-20-5b7afd1eeac0>:14: SettingWithCopyWarning: \n",
            "A value is trying to be set on a copy of a slice from a DataFrame\n",
            "\n",
            "See the caveats in the documentation: https://pandas.pydata.org/pandas-docs/stable/user_guide/indexing.html#returning-a-view-versus-a-copy\n",
            "  taula2_processed.rename(columns={'diagnosis': 'y_true'}, inplace=True)\n"
          ]
        }
      ]
    },
    {
      "cell_type": "code",
      "source": [
        "\n",
        "y_pred = taula02['y_pred']\n",
        "y_true = taula02['y_true']\n",
        "\n",
        "# 1. Matriu de confusió\n",
        "cm = confusion_matrix(y_true, y_pred)\n",
        "print(\"Matriu de confusió:\")\n",
        "print(cm)\n",
        "\n",
        "# 2. Precisió\n",
        "precision = precision_score(y_true, y_pred)\n",
        "print(f\"Precisió: {precision:.2f}\")\n",
        "\n",
        "# 3. Recall\n",
        "recall = recall_score(y_true, y_pred)\n",
        "print(f\"Recall: {recall:.2f}\")\n",
        "\n",
        "# 4. F1-Score\n",
        "f1 = f1_score(y_true, y_pred)\n",
        "print(f\"F1-Score: {f1:.2f}\")\n",
        "\n",
        "# 5. Exactitut\n",
        "accuracy = accuracy_score(y_true, y_pred)\n",
        "print(f\"Exactitut: {accuracy:.2f}\")"
      ],
      "metadata": {
        "colab": {
          "base_uri": "https://localhost:8080/"
        },
        "id": "xp50ll2EgbWh",
        "outputId": "d271a6cf-e6c9-4e9c-9344-0649766788ae"
      },
      "execution_count": null,
      "outputs": [
        {
          "output_type": "stream",
          "name": "stdout",
          "text": [
            "Matriu de confusió:\n",
            "[[338  19]\n",
            " [  5 207]]\n",
            "Precisió: 0.92\n",
            "Recall: 0.98\n",
            "F1-Score: 0.95\n",
            "Exactitut: 0.96\n"
          ]
        }
      ]
    },
    {
      "cell_type": "markdown",
      "source": [
        "Menys falsos positius, però 19 falsos negatius, que són molts en el camp sanitari."
      ],
      "metadata": {
        "id": "dyFew2hwghHO"
      }
    },
    {
      "cell_type": "markdown",
      "source": [
        "# ROC, AUC i llindar òptim."
      ],
      "metadata": {
        "id": "1AyqxKv3q_XI"
      }
    },
    {
      "cell_type": "code",
      "source": [
        "from sklearn.metrics import roc_curve, auc\n",
        "import matplotlib.pyplot as plt\n",
        "\n",
        "data = pd.read_csv('prob_id_diag.csv')\n",
        "\n",
        "y_true = data['diagnosis']\n",
        "prob_columns = data.columns[2:]\n",
        "\n",
        "# Calculam la mitja de les probabilitats per files (pacients)\n",
        "prob_avg = data[prob_columns].mean(axis=1)\n",
        "\n",
        "# Calculam la corba ROC i l'AUC\n",
        "fpr, tpr, thresholds = roc_curve(y_true, prob_avg)\n",
        "roc_auc = auc(fpr, tpr)\n",
        "\n",
        "# Grafica, la corba ROC\n",
        "plt.figure()\n",
        "plt.plot(fpr, tpr, color='darkorange', lw=2, label=f'Corba ROC (AUC = {roc_auc:.4f})')\n",
        "plt.plot([0, 1], [0, 1], color='navy', lw=2, linestyle='--')\n",
        "plt.xlim([0.0, 1.0])\n",
        "plt.ylim([0.0, 1.05])\n",
        "plt.xlabel('False Positive Rate', fontsize=16)\n",
        "plt.ylabel('True Positive Rate', fontsize= 16)\n",
        "plt.legend(loc=\"lower right\")\n",
        "plt.show()\n",
        "\n",
        "# Imprimim l'AUC\n",
        "print(f'AUC: {roc_auc}')\n"
      ],
      "metadata": {
        "colab": {
          "base_uri": "https://localhost:8080/",
          "height": 472
        },
        "id": "TEvxP2616Adb",
        "outputId": "7e815f8a-f566-415a-f93f-f9860d3a76b4"
      },
      "execution_count": null,
      "outputs": [
        {
          "output_type": "display_data",
          "data": {
            "text/plain": [
              "<Figure size 640x480 with 1 Axes>"
            ],
            "image/png": "[encoded data removed]"
          },
          "metadata": {}
        },
        {
          "output_type": "stream",
          "name": "stdout",
          "text": [
            "AUC: 0.9951905290418054\n"
          ]
        }
      ]
    },
    {
      "cell_type": "code",
      "source": [
        "# Calculam el punt de Youden per a trobar el llindar òptim (maximitza sensibilitat + especificitat - 1)\n",
        "youden_index = np.argmax(tpr - fpr)\n",
        "optimal_threshold = thresholds[youden_index]\n",
        "\n",
        "print(f'Umbral óptimo: {optimal_threshold}')\n"
      ],
      "metadata": {
        "colab": {
          "base_uri": "https://localhost:8080/"
        },
        "id": "gXUiZ6MH6KQg",
        "outputId": "aa9b6380-3dcd-4031-d195-ac47f5c589a0"
      },
      "execution_count": null,
      "outputs": [
        {
          "output_type": "stream",
          "name": "stdout",
          "text": [
            "Umbral óptimo: 0.5111500438483546\n"
          ]
        }
      ]
    }
  ]
}