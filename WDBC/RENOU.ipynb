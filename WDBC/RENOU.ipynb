{
  "cells": [
    {
      "cell_type": "markdown",
      "metadata": {
        "id": "view-in-github",
        "colab_type": "text"
      },
      "source": [
        "<a href=\"https://colab.research.google.com/github/XescLlabres/tfgFLM/blob/main/WDBC/RENOU.ipynb\" target=\"_parent\"><img src=\"https://colab.research.google.com/assets/colab-badge.svg\" alt=\"Open In Colab\"/></a>"
      ]
    },
    {
      "cell_type": "code",
      "execution_count": null,
      "metadata": {
        "id": "5RtqvD9ymzhq"
      },
      "outputs": [],
      "source": [
        "import pandas as pd\n",
        "import numpy as np\n",
        "from sklearn.utils import resample\n",
        "from sklearn.preprocessing import StandardScaler\n",
        "from sklearn.linear_model import LogisticRegression\n",
        "from sklearn.model_selection import LeaveOneOut\n",
        "import statsmodels.api as sm\n",
        "import seaborn as sns\n",
        "import matplotlib.pyplot as plt"
      ]
    },
    {
      "cell_type": "code",
      "execution_count": null,
      "metadata": {
        "id": "u9STqCWfnY89"
      },
      "outputs": [],
      "source": [
        "df = pd.read_csv('data.csv.xls')"
      ]
    },
    {
      "cell_type": "code",
      "execution_count": null,
      "metadata": {
        "id": "TkApqJp8nb8y"
      },
      "outputs": [],
      "source": [
        "df.drop(['Unnamed: 32','id'],axis=1,inplace=True)\n",
        "df.diagnosis=[1 if each==\"M\" else 0 for each in df.diagnosis]"
      ]
    },
    {
      "cell_type": "code",
      "execution_count": null,
      "metadata": {
        "id": "Ppb3LZ4PniMc"
      },
      "outputs": [],
      "source": [
        "\n",
        "# Afegir renou proporcional als valors de totes les columnes, excepte diagnosis\n",
        "for columna in df.select_dtypes(include=[np.number]).columns:\n",
        "    if columna != 'diagnosis':\n",
        "        # Calcular el renou proporcional\n",
        "        ruido = np.random.normal(0, 2*df[columna].std(), size=df[columna].shape)\n",
        "        df[columna] += ruido\n",
        "#Guardar el dataset amb renou\n",
        "df.to_csv('dataset_con_ruido.csv', index=False)\n",
        "\n"
      ]
    },
    {
      "cell_type": "markdown",
      "metadata": {
        "id": "7Az5QVBOn4Ut"
      },
      "source": [
        "#Entrenar model amb renou"
      ]
    },
    {
      "cell_type": "code",
      "execution_count": null,
      "metadata": {
        "colab": {
          "background_save": true
        },
        "id": "BT3SKHKUnrsK"
      },
      "outputs": [],
      "source": [
        "from sklearn.utils import resample\n",
        "from sklearn.preprocessing import StandardScaler\n",
        "from sklearn.linear_model import LogisticRegression\n",
        "from sklearn.model_selection import LeaveOneOut\n",
        "\n",
        "df50 = pd.read_csv('dataset_con_ruido.csv')\n",
        "\n",
        "df50.columns = df50.columns.str.strip()\n",
        "\n",
        "\n",
        "y = df50.loc[:, \"diagnosis\"].values\n",
        "\n",
        "X1 = df50.loc[:, (df50.columns != \"diagnosis\") & (df50.columns != \"id\")].values #Dades amb renou\n",
        "df2 = pd.read_csv('data.csv.xls')\n",
        "df2.drop(['Unnamed: 32','id'],axis=1,inplace=True)\n",
        "df2.diagnosis=[1 if each==\"M\" else 0 for each in df.diagnosis]\n",
        "X2 = df2.loc[:, (df2.columns != \"diagnosis\") & (df2.columns != \"id\")].values #Dades fora renou\n",
        "\n",
        "\n",
        "scaler = StandardScaler()\n",
        "#Escalam les dues X\n",
        "X_scaled = scaler.fit_transform(X1)\n",
        "X2_scaled = scaler.fit_transform(X2)\n",
        "\n",
        "# Model i LOOCV\n",
        "loo = LeaveOneOut()\n",
        "model = LogisticRegression(max_iter=1000)\n",
        "\n",
        "all_bootstrap_probabilities = []\n",
        "\n",
        "# Aplicar LOOCV amb Bootstrap\n",
        "for train_index, test_index in loo.split(X_scaled):  # Usam X escalat\n",
        "    # Train amb renou, test sense renou\n",
        "    X_train, X_test = X_scaled[train_index], X2_scaled[test_index]\n",
        "    y_train, y_test = y[train_index], y[test_index]\n",
        "\n",
        "    bootstrapped_probabilities = []\n",
        "\n",
        "    for _ in range(500):\n",
        "\n",
        "        X_train_bootstrap, y_train_bootstrap = resample(X_train, y_train, replace=True)\n",
        "\n",
        "        # Entrenar el model amb les dades amb renou\n",
        "        model.fit(X_train_bootstrap, y_train_bootstrap)\n",
        "\n",
        "\n",
        "        prob = model.predict_proba(X_test)[:, 1][0]  # Probabilidad de clase 1\n",
        "        bootstrapped_probabilities.append(prob)\n",
        "\n",
        "    # Guardar probabilitats\n",
        "    all_bootstrap_probabilities.append(bootstrapped_probabilities)\n",
        "\n",
        "df50_probabilities = pd.DataFrame(all_bootstrap_probabilities)"
      ]
    },
    {
      "cell_type": "markdown",
      "metadata": {
        "id": "ke4j3Z0Cn_l2"
      },
      "source": [
        "#Fer taula amb id, diag i probabilitats"
      ]
    },
    {
      "cell_type": "code",
      "execution_count": null,
      "metadata": {
        "colab": {
          "background_save": true
        },
        "id": "aOLaI5awoBA3"
      },
      "outputs": [],
      "source": [
        "data1 = pd.read_csv('data.csv.xls')\n",
        "data1.drop(['Unnamed: 32'],axis=1,inplace=True)\n",
        "df50_probabilities.insert(0, 'id', data1['id'].values)\n",
        "df50_probabilities.to_csv(\"bootstrap_probabilities_id50.csv\", index=False)"
      ]
    },
    {
      "cell_type": "code",
      "execution_count": null,
      "metadata": {
        "colab": {
          "background_save": true
        },
        "id": "8pB2QP-UoGLz",
        "outputId": "84669479-7c0e-49ec-da05-f54d16af36ff"
      },
      "outputs": [
        {
          "name": "stdout",
          "output_type": "stream",
          "text": [
            "         id  diagnosis         0         1         2         3         4  \\\n",
            "0    842302          1  1.000000  1.000000  1.000000  1.000000  1.000000   \n",
            "1    842517          1  0.997103  0.996519  0.998523  0.999608  0.998323   \n",
            "2  84300903          1  0.999989  0.999997  0.999995  0.999999  0.999998   \n",
            "3  84348301          1  0.996694  0.979579  0.996068  0.969410  0.994080   \n",
            "4  84358402          1  0.999842  0.999227  0.999905  0.999660  0.999611   \n",
            "\n",
            "          5         6         7  ...       490       491       492       493  \\\n",
            "0  0.999999  0.999999  1.000000  ...  1.000000  1.000000  1.000000  1.000000   \n",
            "1  0.999624  0.999635  0.999629  ...  0.999621  0.998046  0.998553  0.999192   \n",
            "2  0.999995  0.999996  0.999988  ...  0.999996  0.999998  0.999996  0.999996   \n",
            "3  0.995926  0.999752  0.987371  ...  0.982906  0.999686  0.992574  0.996834   \n",
            "4  0.999741  0.999957  0.999902  ...  0.999913  0.999668  0.999875  0.999956   \n",
            "\n",
            "        494       495       496       497       498       499  \n",
            "0  1.000000  1.000000  1.000000  1.000000  1.000000  0.999999  \n",
            "1  0.999518  0.999087  0.999549  0.998634  0.998294  0.999514  \n",
            "2  0.999993  0.999992  0.999980  0.999999  0.999999  0.999996  \n",
            "3  0.999498  0.997710  0.997003  0.999180  0.991301  0.998877  \n",
            "4  0.999970  0.999768  0.999933  0.999983  0.999857  0.999916  \n",
            "\n",
            "[5 rows x 502 columns]\n"
          ]
        }
      ],
      "source": [
        "\n",
        "\n",
        "taula1 = pd.read_csv('bootstrap_probabilities_id50.csv')\n",
        "taula2 = pd.read_csv('data.csv.xls')\n",
        "taula2.diagnosis=[1 if each==\"M\" else 0 for each in taula2.diagnosis]\n",
        "\n",
        "\n",
        "id_column = taula1.iloc[:, 0]\n",
        "probabilities = taula1.iloc[:, 1:]\n",
        "\n",
        "\n",
        "taula2_processed = taula2[['id', 'diagnosis']]\n",
        "\n",
        "\n",
        "id_diag_prob50 = pd.merge(taula2_processed, taula1, on='id')\n",
        "\n",
        "\n",
        "print(id_diag_prob50.head())\n",
        "\n",
        "\n",
        "id_diag_prob50.to_csv('id_diag_prob50.csv', index=False)"
      ]
    },
    {
      "cell_type": "markdown",
      "metadata": {
        "id": "3QnFHfjGoQK8"
      },
      "source": [
        "#Fer taula amb prediccions i primer analisi"
      ]
    },
    {
      "cell_type": "code",
      "execution_count": null,
      "metadata": {
        "colab": {
          "background_save": true
        },
        "id": "tUFsOh6NoRjG"
      },
      "outputs": [],
      "source": [
        "taula1 = pd.read_csv('bootstrap_probabilities_id50.csv')\n",
        "\n",
        "taula2 = pd.read_csv('data.csv.xls')\n",
        "\n",
        "taula2.drop(['Unnamed: 32'],axis=1,inplace=True)\n",
        "taula2.diagnosis=[1 if each==\"M\" else 0 for each in taula2.diagnosis]"
      ]
    },
    {
      "cell_type": "code",
      "execution_count": null,
      "metadata": {
        "colab": {
          "background_save": true
        },
        "id": "c6AJkZFooVIJ",
        "outputId": "5938c577-e6d1-446c-e4b7-1d0625921c76"
      },
      "outputs": [
        {
          "name": "stdout",
          "output_type": "stream",
          "text": [
            "         id  y_pred  y_true\n",
            "0    842302       1       1\n",
            "1    842517       1       1\n",
            "2  84300903       1       1\n",
            "3  84348301       1       1\n",
            "4  84358402       1       1\n"
          ]
        },
        {
          "name": "stderr",
          "output_type": "stream",
          "text": [
            "<ipython-input-14-45144bacc16a>:13: SettingWithCopyWarning: \n",
            "A value is trying to be set on a copy of a slice from a DataFrame\n",
            "\n",
            "See the caveats in the documentation: https://pandas.pydata.org/pandas-docs/stable/user_guide/indexing.html#returning-a-view-versus-a-copy\n",
            "  taula2_processed.rename(columns={'diagnosis': 'y_true'}, inplace=True)\n"
          ]
        }
      ],
      "source": [
        "\n",
        "id_column = taula1.iloc[:, 0]\n",
        "\n",
        "\n",
        "probabilities = taula1.iloc[:, 1:]\n",
        "\n",
        "#Llindar directament a 0.5\n",
        "y_pred = (probabilities.mean(axis=1) >= 0.5).astype(int)\n",
        "\n",
        "\n",
        "taula1_processed = pd.DataFrame({'id': id_column, 'y_pred': y_pred})\n",
        "\n",
        "taula2_processed = taula2[['id', 'diagnosis']]\n",
        "taula2_processed.rename(columns={'diagnosis': 'y_true'}, inplace=True)\n",
        "\n",
        "taula05_50 = pd.merge(taula1_processed, taula2_processed, on='id')\n",
        "\n",
        "\n",
        "print(taula05_50.head())"
      ]
    },
    {
      "cell_type": "code",
      "execution_count": null,
      "metadata": {
        "colab": {
          "background_save": true
        },
        "id": "sM-_m7iIofXG",
        "outputId": "a891da61-ab0c-45b5-9fef-8d27302f5542"
      },
      "outputs": [
        {
          "name": "stdout",
          "output_type": "stream",
          "text": [
            "Matriu de confusió:\n",
            "[[349   8]\n",
            " [ 22 190]]\n",
            "Precisió: 0.96\n",
            "Recall: 0.90\n",
            "F1-Score: 0.93\n",
            "Exactitut: 0.95\n"
          ]
        }
      ],
      "source": [
        "from sklearn.metrics import confusion_matrix, precision_score, recall_score, f1_score, accuracy_score\n",
        "\n",
        "y_pred = taula05_50['y_pred']\n",
        "y_true = taula05_50['y_true']\n",
        "\n",
        "# 1. Matriu de Confusió\n",
        "cm = confusion_matrix(y_true, y_pred)\n",
        "print(\"Matriu de confusió:\")\n",
        "print(cm)\n",
        "\n",
        "# 2. Precisió\n",
        "precision = precision_score(y_true, y_pred)\n",
        "print(f\"Precisió: {precision:.2f}\")\n",
        "\n",
        "# 3. Recall\n",
        "recall = recall_score(y_true, y_pred)\n",
        "print(f\"Recall: {recall:.2f}\")\n",
        "\n",
        "# 4. F1-Score\n",
        "f1 = f1_score(y_true, y_pred)\n",
        "print(f\"F1-Score: {f1:.2f}\")\n",
        "\n",
        "# 5. Exactitut\n",
        "accuracy = accuracy_score(y_true, y_pred)\n",
        "print(f\"Exactitut: {accuracy:.2f}\")"
      ]
    },
    {
      "cell_type": "markdown",
      "metadata": {
        "id": "Vncd6Z3Fol00"
      },
      "source": [
        "#DF i formules (lo mateix amb renou .50 a tots)"
      ]
    },
    {
      "cell_type": "code",
      "execution_count": null,
      "metadata": {
        "colab": {
          "background_save": true
        },
        "id": "qCa4CJA6oo9v"
      },
      "outputs": [],
      "source": [
        "\n",
        "\n",
        "df = pd.read_csv('id_diag_prob50.csv')\n",
        "\n",
        "id_column = 'id'\n",
        "diagnosis_column = 'diagnosis'\n",
        "prob_columns = df.columns[2:]\n",
        "\n",
        "\n",
        "def calcular_intervalo(probabilidades, li, ls):\n",
        "    lower_bound = np.percentile(probabilidades, li)\n",
        "    upper_bound = np.percentile(probabilidades, ls)\n",
        "    return lower_bound, upper_bound"
      ]
    },
    {
      "cell_type": "code",
      "execution_count": null,
      "metadata": {
        "colab": {
          "background_save": true
        },
        "id": "EosmejUXoufq",
        "outputId": "dd3f067c-05e8-42db-f926-c1e1456f029e"
      },
      "outputs": [
        {
          "name": "stdout",
          "output_type": "stream",
          "text": [
            "           id  diagnosis   lower_bound  upper_bound\n",
            "564  926424.0        1.0  9.999981e-01     1.000000\n",
            "565  926682.0        1.0  9.992558e-01     0.999990\n",
            "566  926954.0        1.0  8.904370e-01     0.990138\n",
            "567  927241.0        1.0  9.999999e-01     1.000000\n",
            "568   92751.0        0.0  1.534816e-07     0.000040\n"
          ]
        }
      ],
      "source": [
        "\n",
        "intervalos_confianza = []\n",
        "\n",
        "\n",
        "for index, row in df.iterrows():\n",
        "    probabilidades = row[prob_columns].values\n",
        "    lower, upper = calcular_intervalo(probabilidades, 2.5, 97.5)\n",
        "    intervalos_confianza.append([row[id_column], row[diagnosis_column], lower, upper])\n",
        "\n",
        "\n",
        "df_intervalos = pd.DataFrame(intervalos_confianza, columns=[id_column, diagnosis_column, 'lower_bound', 'upper_bound'])\n",
        "\n",
        "\n",
        "print(df_intervalos.tail())"
      ]
    },
    {
      "cell_type": "code",
      "execution_count": null,
      "metadata": {
        "colab": {
          "background_save": true
        },
        "id": "auMc4L9_ox8U"
      },
      "outputs": [],
      "source": [
        "def calcular_TP(a, b):\n",
        "    TP = min(1 - a, b)\n",
        "    return TP\n",
        "def calcular_AP(a,b):\n",
        "    AP = min(a, 1-b)\n",
        "    return AP\n",
        "def calcular_EP(a,b):\n",
        "    EP = (b-a)\n",
        "    return EP"
      ]
    },
    {
      "cell_type": "code",
      "execution_count": null,
      "metadata": {
        "colab": {
          "background_save": true
        },
        "id": "DlRCXBFso0QX",
        "outputId": "61dded62-cb0e-4171-b494-66cbd6f64ba3"
      },
      "outputs": [
        {
          "name": "stdout",
          "output_type": "stream",
          "text": [
            "           id  diagnosis  lower_bound  upper_bound        TP            AP  \\\n",
            "0    842302.0        1.0     0.999998     1.000000  0.000002  6.171648e-10   \n",
            "1    842517.0        1.0     0.995649     0.999893  0.004351  1.067632e-04   \n",
            "2  84300903.0        1.0     0.999972     1.000000  0.000028  2.520786e-07   \n",
            "3  84348301.0        1.0     0.950100     0.999969  0.049900  3.052899e-05   \n",
            "4  84358402.0        1.0     0.999171     0.999992  0.000829  7.915100e-06   \n",
            "\n",
            "         EP  \n",
            "0  0.000002  \n",
            "1  0.004245  \n",
            "2  0.000027  \n",
            "3  0.049869  \n",
            "4  0.000821  \n"
          ]
        }
      ],
      "source": [
        "\n",
        "df_intervalos['TP'] = df_intervalos.apply(lambda row: calcular_TP(row['lower_bound'], row['upper_bound']), axis=1)\n",
        "\n",
        "df_intervalos['AP'] = df_intervalos.apply(lambda row: calcular_AP(row['lower_bound'], row['upper_bound']), axis=1)\n",
        "\n",
        "df_intervalos['EP'] = df_intervalos.apply(lambda row: calcular_EP(row['lower_bound'], row['upper_bound']), axis=1)\n",
        "\n",
        "\n",
        "print(df_intervalos.head())"
      ]
    },
    {
      "cell_type": "markdown",
      "metadata": {
        "id": "dOuEAsVLo4_2"
      },
      "source": [
        "#Analisi TP, EP i AP amb renou 0.50 a tot"
      ]
    },
    {
      "cell_type": "code",
      "execution_count": null,
      "metadata": {
        "colab": {
          "background_save": true
        },
        "id": "4nFGuKrBo7DR",
        "outputId": "72f4b1c1-2049-433b-d861-1eac77f88cd7"
      },
      "outputs": [
        {
          "name": "stdout",
          "output_type": "stream",
          "text": [
            "Mitjanes:\n",
            "TP    0.096692\n",
            "AP    0.017202\n",
            "EP    0.079491\n",
            "dtype: float64\n",
            "\n",
            "Fila amb el valor màxim de TP:\n",
            "id             859471.000000\n",
            "diagnosis           0.000000\n",
            "lower_bound         0.010304\n",
            "upper_bound         0.987101\n",
            "TP                  0.987101\n",
            "AP                  0.010304\n",
            "EP                  0.976798\n",
            "Name: 68, dtype: float64\n",
            "\n",
            "Fila amb el valor mínim de TP:\n",
            "id             9.112962e+08\n",
            "diagnosis      1.000000e+00\n",
            "lower_bound    1.000000e+00\n",
            "upper_bound    1.000000e+00\n",
            "TP             2.764455e-14\n",
            "AP             0.000000e+00\n",
            "EP             2.764455e-14\n",
            "Name: 461, dtype: float64\n",
            "\n",
            "Desviacions estàndar:\n",
            "TP    0.190319\n",
            "AP    0.047264\n",
            "EP    0.154642\n",
            "dtype: float64\n"
          ]
        }
      ],
      "source": [
        "# Mitjanes\n",
        "medias = df_intervalos[['TP', 'AP', 'EP']].mean()\n",
        "print(\"Mitjanes:\")\n",
        "print(medias)\n",
        "\n",
        "# Valor màxim\n",
        "fila_max_TP = df_intervalos.loc[df_intervalos['TP'].idxmax()]\n",
        "print(\"\\nFila amb el valor màxim de TP:\")\n",
        "print(fila_max_TP)\n",
        "\n",
        "# Valor mínim\n",
        "fila_min_TP = df_intervalos.loc[df_intervalos['TP'].idxmin()]\n",
        "print(\"\\nFila amb el valor mínim de TP:\")\n",
        "print(fila_min_TP)\n",
        "\n",
        "# Medida de dispersión (opcional): desviación estándar\n",
        "desviacion = df_intervalos[['TP', 'AP', 'EP']].std()\n",
        "print(\"\\nDesviacions estàndar:\")\n",
        "print(desviacion)"
      ]
    },
    {
      "cell_type": "code",
      "execution_count": null,
      "metadata": {
        "colab": {
          "background_save": true
        },
        "id": "xhJfT0KVo9xX",
        "outputId": "91bd0be9-1cba-4976-d214-f2a80c8d7b26"
      },
      "outputs": [
        {
          "name": "stdout",
          "output_type": "stream",
          "text": [
            "\n",
            "Correlacions entre TP, AP i EP:\n",
            "          TP        AP        EP\n",
            "TP  1.000000  0.808264  0.983673\n",
            "AP  0.808264  1.000000  0.689102\n",
            "EP  0.983673  0.689102  1.000000\n"
          ]
        }
      ],
      "source": [
        "# Calcular correlació entre TP, AP i EP\n",
        "correlaciones = df_intervalos[['TP', 'AP', 'EP']].corr()\n",
        "print(\"\\nCorrelacions entre TP, AP i EP:\")\n",
        "print(correlaciones)"
      ]
    },
    {
      "cell_type": "code",
      "execution_count": null,
      "metadata": {
        "colab": {
          "background_save": true
        },
        "id": "-_d-ZDRipAKL",
        "outputId": "aa2391e6-c909-40e8-c720-0a3765060c84"
      },
      "outputs": [
        {
          "name": "stdout",
          "output_type": "stream",
          "text": [
            "\\Mitjanes de TP, AP i EP por diagnosis:\n",
            "                 TP        AP        EP\n",
            "diagnosis                              \n",
            "0.0        0.082792  0.012657  0.070135\n",
            "1.0        0.120100  0.024854  0.095246\n"
          ]
        }
      ],
      "source": [
        "# Comparar las medias de TP, AP y EP según diagnosis\n",
        "medias_por_diagnostico = df_intervalos.groupby('diagnosis')[['TP', 'AP', 'EP']].mean()\n",
        "print(\"\\Mitjanes de TP, AP i EP por diagnosis:\")\n",
        "print(medias_por_diagnostico)"
      ]
    },
    {
      "cell_type": "code",
      "execution_count": null,
      "metadata": {
        "colab": {
          "background_save": true
        },
        "id": "Vltn07ZJrPPt",
        "outputId": "f747695e-f384-4519-f411-e35e7274f19c"
      },
      "outputs": [
        {
          "data": {
            "image/png": "[encoded data removed]",
            "text/plain": [
              "<Figure size 1000x600 with 1 Axes>"
            ]
          },
          "metadata": {},
          "output_type": "display_data"
        }
      ],
      "source": [
        "import seaborn as sns\n",
        "\n",
        "# Crear un gràfic de caixa per TP, AP i EP\n",
        "plt.figure(figsize=(10, 6))\n",
        "sns.boxplot(data=df_intervalos[['TP', 'AP', 'EP']])\n",
        "plt.title('Gràfic de Caixa de TP, AP i EP')\n",
        "plt.ylabel('Valors')\n",
        "plt.xticks(ticks=[0, 1, 2], labels=['TP', 'AP', 'EP'])\n",
        "plt.show()\n"
      ]
    },
    {
      "cell_type": "markdown",
      "metadata": {
        "id": "K9s-GMW8rWGX"
      },
      "source": [
        "# Filtratje de dades (TP>0.1)"
      ]
    },
    {
      "cell_type": "code",
      "execution_count": null,
      "metadata": {
        "colab": {
          "background_save": true
        },
        "id": "NgX5xQEWrYJU",
        "outputId": "1839237a-6f11-438f-8201-334dff689d10"
      },
      "outputs": [
        {
          "name": "stdout",
          "output_type": "stream",
          "text": [
            "Datos con TP > 0.1:\n",
            "            id  diagnosis  lower_bound  upper_bound        TP        AP  \\\n",
            "5     843786.0        1.0     0.664642     0.979395  0.335358  0.020605   \n",
            "7   84458202.0        1.0     0.772446     0.969684  0.227554  0.030316   \n",
            "10    845636.0        1.0     0.145932     0.632045  0.632045  0.145932   \n",
            "13    846381.0        1.0     0.308542     0.787744  0.691458  0.212256   \n",
            "16    848406.0        1.0     0.634972     0.906985  0.365028  0.093015   \n",
            "\n",
            "          EP  \n",
            "5   0.314753  \n",
            "7   0.197238  \n",
            "10  0.486113  \n",
            "13  0.479202  \n",
            "16  0.272013  \n",
            "\n",
            "Estadístiques descriptives per TP > 0.1:\n",
            "               TP          AP          EP\n",
            "count  128.000000  128.000000  128.000000\n",
            "mean     0.387819    0.073166    0.314653\n",
            "std      0.224850    0.076831    0.184477\n",
            "min      0.101596    0.000242    0.082894\n",
            "25%      0.187734    0.017122    0.162786\n",
            "50%      0.355415    0.037203    0.292003\n",
            "75%      0.546184    0.105370    0.408238\n",
            "max      0.987101    0.307711    0.976798\n"
          ]
        }
      ],
      "source": [
        "\n",
        "df_filtrado = df_intervalos[df_intervalos['TP'] > 0.1]\n",
        "\n",
        "print(\"Datos con TP > 0.1:\")\n",
        "print(df_filtrado.head())\n",
        "\n",
        "\n",
        "print(\"\\nEstadístiques descriptives per TP > 0.1:\")\n",
        "print(df_filtrado[['TP', 'AP', 'EP']].describe())"
      ]
    },
    {
      "cell_type": "code",
      "execution_count": null,
      "metadata": {
        "colab": {
          "background_save": true
        },
        "id": "SRG-erm5rj77",
        "outputId": "0cfb8ea7-a56a-4ce3-f1cb-b8dda8df39fd"
      },
      "outputs": [
        {
          "data": {
            "image/png": "[encoded data removed]",
            "text/plain": [
              "<Figure size 1500x500 with 3 Axes>"
            ]
          },
          "metadata": {},
          "output_type": "display_data"
        },
        {
          "data": {
            "image/png": "[encoded data removed]",
            "text/plain": [
              "<Figure size 1000x600 with 1 Axes>"
            ]
          },
          "metadata": {},
          "output_type": "display_data"
        }
      ],
      "source": [
        "#Histogrames\n",
        "plt.figure(figsize=(15, 5))\n",
        "\n",
        "\n",
        "plt.subplot(1, 3, 1)\n",
        "plt.hist(df_filtrado['TP'], bins=20, color='blue', alpha=0.7)\n",
        "plt.title('Histograma de TP (TP > 0.1)')\n",
        "plt.xlabel('TP')\n",
        "plt.ylabel('Freqüencia')\n",
        "\n",
        "plt.subplot(1, 3, 2)\n",
        "plt.hist(df_filtrado['AP'], bins=20, color='green', alpha=0.7)\n",
        "plt.title('Histograma de AP (TP > 0.1)')\n",
        "plt.xlabel('AP')\n",
        "plt.ylabel('Freqüencia')\n",
        "\n",
        "plt.subplot(1, 3, 3)\n",
        "plt.hist(df_filtrado['EP'], bins=20, color='red', alpha=0.7)\n",
        "plt.title('Histograma de EP (TP > 0.1)')\n",
        "plt.xlabel('EP')\n",
        "plt.ylabel('Freqüencia')\n",
        "\n",
        "plt.tight_layout()\n",
        "plt.show()\n",
        "\n",
        "# Gràfic de caixa per TP, AP i EP\n",
        "plt.figure(figsize=(10, 6))\n",
        "sns.boxplot(data=df_filtrado[['TP', 'AP', 'EP']])\n",
        "plt.title('Gráfico de Caja de TP, AP y EP (TP > 0.1)')\n",
        "plt.ylabel('Valores')\n",
        "plt.xticks(ticks=[0, 1, 2], labels=['TP', 'AP', 'EP'])\n",
        "plt.show()"
      ]
    }
  ],
  "metadata": {
    "colab": {
      "provenance": [],
      "authorship_tag": "ABX9TyO1gJ7ztC+ljJA12mQxLjF+",
      "include_colab_link": true
    },
    "kernelspec": {
      "display_name": "Python 3",
      "name": "python3"
    },
    "language_info": {
      "name": "python"
    }
  },
  "nbformat": 4,
  "nbformat_minor": 0
}